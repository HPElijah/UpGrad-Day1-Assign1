{
  "nbformat": 4,
  "nbformat_minor": 0,
  "metadata": {
    "colab": {
      "name": "Day1-Assign1.ipynb",
      "provenance": []
    },
    "kernelspec": {
      "name": "python3",
      "display_name": "Python 3"
    },
    "language_info": {
      "name": "python"
    }
  },
  "cells": [
    {
      "cell_type": "code",
      "metadata": {
        "colab": {
          "base_uri": "https://localhost:8080/"
        },
        "id": "_myaJK_gw5uR",
        "outputId": "cf13fbac-6b0d-4dd3-c0ac-43320b4cf3f5"
      },
      "source": [
        "#UpGrad\n",
        "#assignment day1 to sort a list in descending order combining all discussed functionalities\n",
        "\n",
        "li=[int(i) for i in input('Enter values: ').split()]\n",
        "'''here whatever inp we take we applied split to it(list) then we r iterating over that list \n",
        "and conv its val into int, finally enclosing all val in list'''\n",
        "\n",
        "#as discussed bfr we r using sort() mthd and some trick\n",
        "\n",
        "li.sort(reverse=True)\n",
        "'''here reverse is a parameter for sort and it True then sorted list is reversed'''\n",
        "print('(To get our list in) Sorted list in descending order: ', li)\n",
        "\n",
        "#this was for number list it can also be used fr ch and str list"
      ],
      "execution_count": 2,
      "outputs": [
        {
          "output_type": "stream",
          "text": [
            "Enter values: 1 3 2 5 7 4\n",
            "(To get our list in) Sorted list in descending order:  [7, 5, 4, 3, 2, 1]\n"
          ],
          "name": "stdout"
        }
      ]
    }
  ]
}